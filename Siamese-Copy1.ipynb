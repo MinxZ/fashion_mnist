{
 "cells": [
  {
   "cell_type": "code",
   "execution_count": 1,
   "metadata": {},
   "outputs": [
    {
     "name": "stderr",
     "output_type": "stream",
     "text": [
      "Using TensorFlow backend.\n"
     ]
    }
   ],
   "source": [
    "from __future__ import absolute_import, division, print_function\n",
    "\n",
    "import argparse\n",
    "import os\n",
    "import random\n",
    "from datetime import datetime\n",
    "\n",
    "import cv2\n",
    "import keras\n",
    "import numpy as np\n",
    "import pandas as pd\n",
    "from keras import backend as K\n",
    "from keras.applications import *\n",
    "from keras.applications.inception_v3 import preprocess_input\n",
    "from keras.callbacks import *\n",
    "from keras.datasets import fashion_mnist\n",
    "from keras.layers import *\n",
    "from keras.models import *\n",
    "from keras.optimizers import *\n",
    "from keras.preprocessing import image\n",
    "from keras.preprocessing.image import ImageDataGenerator\n",
    "from keras.regularizers import *\n",
    "from keras.utils.generic_utils import CustomObjectScope\n",
    "from keras.utils.vis_utils import model_to_dot\n",
    "from scipy import misc\n",
    "from tqdm import tqdm\n",
    "\n",
    "import matplotlib.pyplot as plt\n",
    "\n",
    "%matplotlib inline\n",
    "%config InlineBackend.figure_format = 'retina'\n"
   ]
  },
  {
   "cell_type": "code",
   "execution_count": 18,
   "metadata": {},
   "outputs": [],
   "source": [
    "def euclidean_distance(vects):\n",
    "    x, y = vects\n",
    "    return K.sqrt(K.maximum(K.sum(K.square(x - y), axis=1, keepdims=True), K.epsilon()))\n",
    "\n",
    "\n",
    "def eucl_dist_output_shape(shapes):\n",
    "    shape1, shape2 = shapes\n",
    "    return (shape1[0], 1)\n",
    "\n",
    "\n",
    "def contrastive_loss(y_true, y_pred):\n",
    "    '''Contrastive loss from Hadsell-et-al.'06\n",
    "    http://yann.lecun.com/exdb/publis/pdf/hadsell-chopra-lecun-06.pdf\n",
    "    '''\n",
    "    margin = 1\n",
    "    return K.mean(y_true * K.square(y_pred) +\n",
    "                  (1 - y_true) * K.square(K.maximum(margin - y_pred, 0)))\n",
    "\n",
    "def compute_accuracy(y_true, y_pred):\n",
    "    '''Compute classification accuracy with a fixed threshold on distances.\n",
    "    '''\n",
    "    pred = y_pred.ravel() < 0.5\n",
    "    return np.mean(pred == y_true)\n",
    "\n",
    "\n",
    "def accuracy(y_true, y_pred):\n",
    "    '''Compute classification accuracy with a fixed threshold on distances.\n",
    "    '''\n",
    "    return K.mean(K.equal(y_true, K.cast(y_pred < 0.5, y_true.dtype)))\n"
   ]
  },
  {
   "cell_type": "code",
   "execution_count": 3,
   "metadata": {},
   "outputs": [],
   "source": [
    "def load_data():\n",
    "    num_classes = 10\n",
    "    (train, train_l), (x_test, y_test) = fashion_mnist.load_data()\n",
    "    \n",
    "    train = train.reshape((train.shape[0],28,28,1))\n",
    "    x_test = x_test.reshape((x_test.shape[0],28,28,1))\n",
    "\n",
    "    # devide into train and validation sets\n",
    "    dvi = int(train.shape[0] * 0.9)\n",
    "    x_train = train[:dvi]\n",
    "    y_train = train_l[:dvi]\n",
    "    x_val = train[dvi:]\n",
    "    y_val = train_l[dvi:]\n",
    "    \n",
    "    x_train = x_train.astype('float32')\n",
    "    x_val = x_val.astype('float32')\n",
    "    x_test = x_test.astype('float32')\n",
    "    x_train /= 255\n",
    "    x_val /= 255\n",
    "    x_test /= 255\n",
    "    \n",
    "    print('x_train shape:', x_train.shape)\n",
    "    print(x_train.shape[0], 'train samples')\n",
    "    print(x_val.shape[0], 'validation samples')\n",
    "    print(x_test.shape[0], 'test samples')\n",
    "\n",
    "    return (x_train, y_train), (x_val, y_val), (x_test, y_test)\n",
    "\n",
    "def create_pairs(x, digit_indices):\n",
    "    '''Positive and negative pair creation.\n",
    "    Alternates between positive and negative pairs.\n",
    "    '''\n",
    "    pairs = []\n",
    "    labels = []\n",
    "    n = min([len(digit_indices[d]) for d in range(num_classes)]) - 1\n",
    "    for d in range(num_classes):\n",
    "        for i in range(n):\n",
    "            z1, z2 = digit_indices[d][i], digit_indices[d][i + 1]\n",
    "            pairs += [[x[z1], x[z2]]]\n",
    "            inc = random.randrange(1, num_classes)\n",
    "            dn = (d + inc) % num_classes\n",
    "            z1, z2 = digit_indices[d][i], digit_indices[dn][i]\n",
    "            pairs += [[x[z1], x[z2]]]\n",
    "            labels += [1, 0]\n",
    "    return np.array(pairs), np.array(labels)\n"
   ]
  },
  {
   "cell_type": "code",
   "execution_count": 28,
   "metadata": {},
   "outputs": [],
   "source": [
    "def create_base_network(input_shape, MODEL):\n",
    "    '''Base network to be shared (eq. to feature extraction).\n",
    "    '''\n",
    "    input = Input(shape=input_shape)\n",
    "    x = input\n",
    "    cnn_model = MODEL(\n",
    "        include_top=False, input_shape=input_shape, weights=None)\n",
    "    x = cnn_model(x)\n",
    "    x = GlobalAveragePooling2D()(x)\n",
    "    x = Dropout(0.5)(x)\n",
    "    x = Dense(128, activation='relu', name='sim')(x)\n",
    "    model = Model(input, outputs=x)\n",
    "    model.load_weights('MobileNet.h5')\n",
    "\n",
    "    return model"
   ]
  },
  {
   "cell_type": "code",
   "execution_count": 29,
   "metadata": {},
   "outputs": [
    {
     "name": "stdout",
     "output_type": "stream",
     "text": [
      "x_train shape: (54000, 28, 28, 1)\n",
      "54000 train samples\n",
      "6000 validation samples\n",
      "10000 test samples\n"
     ]
    }
   ],
   "source": [
    "# Loading Datasets\n",
    "(x_train, y_train), (x_val, y_val), (x_test, y_test) = load_data()\n",
    "input_shape = x_train.shape[1:]\n",
    "\n",
    "num_classes = 10\n",
    "input_shape = x_train.shape[1:]"
   ]
  },
  {
   "cell_type": "code",
   "execution_count": 30,
   "metadata": {
    "scrolled": true
   },
   "outputs": [],
   "source": [
    "# create training+valdation positive and negative pairs\n",
    "digit_indices = [np.where(y_train == i)[0] for i in range(num_classes)]\n",
    "tr_pairs, tr_y = create_pairs(x_train, digit_indices)\n",
    "\n",
    "digit_indices = [np.where(y_val == i)[0] for i in range(num_classes)]\n",
    "val_pairs, val_y = create_pairs(x_val, digit_indices)\n",
    "\n",
    "digit_indices = [np.where(y_test == i)[0] for i in range(num_classes)]\n",
    "te_pairs, te_y = create_pairs(x_test, digit_indices)"
   ]
  },
  {
   "cell_type": "code",
   "execution_count": 36,
   "metadata": {},
   "outputs": [],
   "source": [
    "try:\n",
    "    with CustomObjectScope({'relu6': keras.applications.mobilenet.relu6,\n",
    "                        'DepthwiseConv2D': keras.applications.mobilenet.DepthwiseConv2D,\n",
    "                       'contrastive_loss': contrastive_loss}):\n",
    "        model = load_model('MobileNet_sim.h5')\n",
    "        print('Load model from MobileNet_sim.h5 sucessfully.')\n",
    "except:\n",
    "    print('Fine-tune Network with weights trained on the Fashion-MNIST classify problem.')\n",
    "    # network definition\n",
    "    base_network = create_base_network(input_shape, MobileNet)\n",
    "\n",
    "    input_a = Input(shape=input_shape)\n",
    "    input_b = Input(shape=input_shape)\n",
    "\n",
    "    # because we re-use the same instance `base_network`,\n",
    "    # the weights of the network\n",
    "    # will be shared across the two branches\n",
    "    processed_a = base_network(input_a)\n",
    "    processed_b = base_network(input_b)\n",
    "\n",
    "    distance = Lambda(euclidean_distance,\n",
    "                      output_shape=eucl_dist_output_shape)([processed_a, processed_b])\n",
    "\n",
    "    model = Model([input_a, input_b], distance)"
   ]
  },
  {
   "cell_type": "code",
   "execution_count": null,
   "metadata": {
    "scrolled": true
   },
   "outputs": [
    {
     "name": "stdout",
     "output_type": "stream",
     "text": [
      "Train on 107320 samples, validate on 11080 samples\n",
      "Epoch 1/200\n",
      "107264/107320 [============================>.] - ETA: 0s - loss: 0.0910 - accuracy: 0.8862Epoch 00001: val_loss improved from inf to 0.07997, saving model to MobileNet_sim.h5\n",
      "107320/107320 [==============================] - 62s 577us/step - loss: 0.0910 - accuracy: 0.8862 - val_loss: 0.0800 - val_accuracy: 0.8992\n",
      "Epoch 2/200\n",
      "107264/107320 [============================>.] - ETA: 0s - loss: 0.0815 - accuracy: 0.9006Epoch 00002: val_loss improved from 0.07997 to 0.07965, saving model to MobileNet_sim.h5\n",
      "107320/107320 [==============================] - 54s 502us/step - loss: 0.0817 - accuracy: 0.9005 - val_loss: 0.0796 - val_accuracy: 0.9054\n",
      "Epoch 3/200\n",
      " 46720/107320 [============>.................] - ETA: 29s - loss: 0.0742 - accuracy: 0.9105"
     ]
    }
   ],
   "source": [
    "epochs = 200\n",
    "rms = RMSprop()\n",
    "model.compile(loss=contrastive_loss, optimizer=rms, metrics=[accuracy])\n",
    "\n",
    "# train\n",
    "patience = 5\n",
    "model_name = 'MobileNet'\n",
    "class LossHistory(keras.callbacks.Callback):\n",
    "    def on_train_begin(self, logs={}):\n",
    "        self.losses = []\n",
    "    def on_epoch_end(self, batch, logs={}):\n",
    "        self.losses.append((logs.get('loss'), logs.get(\"val_loss\")))\n",
    "        \n",
    "history = LossHistory()\n",
    "early_stopping = EarlyStopping(monitor='val_loss', patience=patience, verbose=2, mode='auto')\n",
    "checkpointer = ModelCheckpoint(filepath=model_name + '_sim.h5', verbose=1, save_best_only=True)\n",
    "reduce_lr = ReduceLROnPlateau(factor=0.3, patience=2, verbose=1)\n",
    "\n",
    "model.fit([tr_pairs[:, 0], tr_pairs[:, 1]], tr_y,\n",
    "          batch_size=128,\n",
    "          epochs=epochs,\n",
    "          validation_data=([val_pairs[:, 0], val_pairs[:, 1]], val_y),\n",
    "          callbacks=[history, early_stopping, checkpointer, reduce_lr])"
   ]
  },
  {
   "cell_type": "code",
   "execution_count": 19,
   "metadata": {},
   "outputs": [
    {
     "name": "stdout",
     "output_type": "stream",
     "text": [
      "11080/11080 [==============================] - 3s 301us/step\n",
      "19980/19980 [==============================] - 4s 216us/step\n",
      "* Accuracy on validation set: 85.34%\n",
      "* Accuracy on testing set: 85.04%\n"
     ]
    }
   ],
   "source": [
    "with CustomObjectScope({'relu6': keras.applications.mobilenet.relu6,\n",
    "                        'DepthwiseConv2D': keras.applications.mobilenet.DepthwiseConv2D,\n",
    "                       'contrastive_loss': contrastive_loss}):\n",
    "    model = load_model('MobileNet_sim.h5')\n",
    "\n",
    "\n",
    "compute final accuracy on training, validation and testing sets\n",
    "y_pred = model.predict([tr_pairs[:, 0], tr_pairs[:, 1]], verbose=1)\n",
    "tr_acc = compute_accuracy(tr_y, y_pred)\n",
    "y_pred = model.predict([val_pairs[:, 0], val_pairs[:, 1]], verbose=1)\n",
    "val_acc = compute_accuracy(val_y, y_pred)\n",
    "y_pred = model.predict([te_pairs[:, 0], te_pairs[:, 1]], verbose=1)\n",
    "te_acc = compute_accuracy(te_y, y_pred)\n",
    "\n",
    "print('* Accuracy on training set: %0.2f%%' % (100 * tr_acc))\n",
    "print('* Accuracy on validation set: %0.2f%%' % (100 * val_acc))\n",
    "print('* Accuracy on testing set: %0.2f%%' % (100 * te_acc))"
   ]
  },
  {
   "cell_type": "code",
   "execution_count": 10,
   "metadata": {},
   "outputs": [
    {
     "name": "stdout",
     "output_type": "stream",
     "text": [
      "* Accuracy on validation set: 50.00%\n",
      "* Accuracy on testing set: 50.00%\n"
     ]
    }
   ],
   "source": [
    "print('* Accuracy on validation set: %0.2f%%' % (100 * val_acc))\n",
    "print('* Accuracy on testing set: %0.2f%%' % (100 * te_acc))"
   ]
  },
  {
   "cell_type": "code",
   "execution_count": 21,
   "metadata": {},
   "outputs": [],
   "source": [
    "def create_recommend_pairs(sample_code, sample_label, x, digit_indices):\n",
    "    '''Only positive pair creation.\n",
    "    '''\n",
    "    pairs = []\n",
    "    n = x.shape[0]\n",
    "    for i in range(n):\n",
    "        z1, z2 = sample_code, i\n",
    "        pairs += [[x[z1], x[z2]]]\n",
    "    return np.array(pairs)"
   ]
  },
  {
   "cell_type": "code",
   "execution_count": 22,
   "metadata": {},
   "outputs": [],
   "source": [
    "digit_indices = [np.where(y_test == i)[0] for i in range(num_classes)]"
   ]
  },
  {
   "cell_type": "code",
   "execution_count": 24,
   "metadata": {},
   "outputs": [
    {
     "name": "stdout",
     "output_type": "stream",
     "text": [
      "10000/10000 [==============================] - 2s 220us/step\n",
      "10000/10000 [==============================] - 2s 216us/step\n",
      "10000/10000 [==============================] - 2s 217us/step\n",
      "10000/10000 [==============================] - 2s 215us/step\n",
      "10000/10000 [==============================] - 2s 217us/step\n"
     ]
    },
    {
     "data": {
      "image/png": "[encoded data removed]",
      "text/plain": [
       "<matplotlib.figure.Figure at 0x7f87c6ef6fd0>"
      ]
     },
     "metadata": {
      "image/png": {
       "height": 251,
       "width": 351
      }
     },
     "output_type": "display_data"
    }
   ],
   "source": [
    "row = 5\n",
    "column = 5\n",
    "for x in range(row):\n",
    "    sample_code = random.choice(range(x_test.shape[0]))\n",
    "    sample_label = y_test[sample_code]\n",
    "    sample = x_test[sample_code] * 255\n",
    "    sample = np.concatenate((sample, sample, sample), axis=2)\n",
    "    plt.subplot(row, column, 1 + x*column)\n",
    "    plt.imshow(sample)\n",
    "    \n",
    "    # create test positive pairs\n",
    "    te_pairs = create_recommend_pairs(sample_code, sample_label, x_test, digit_indices)\n",
    "    \n",
    "    # compute distance between recommend pairs\n",
    "    y_pred = model.predict([te_pairs[:, 0], te_pairs[:, 1]], verbose=1)\n",
    "    \n",
    "    top = np.argsort(y_pred, axis=0)[:column-2]\n",
    "    for i in range(column-2):\n",
    "        sample_code = top[i][0]\n",
    "        sample = x_test[sample_code] * 255\n",
    "        sample = np.concatenate((sample, sample, sample), axis=2)\n",
    "        plt.subplot(row, column, i+3 + x*column)\n",
    "        plt.imshow(sample)"
   ]
  },
  {
   "cell_type": "code",
   "execution_count": null,
   "metadata": {},
   "outputs": [],
   "source": []
  }
 ],
 "metadata": {
  "kernelspec": {
   "display_name": "Python 2",
   "language": "python",
   "name": "python2"
  },
  "language_info": {
   "codemirror_mode": {
    "name": "ipython",
    "version": 2
   },
   "file_extension": ".py",
   "mimetype": "text/x-python",
   "name": "python",
   "nbconvert_exporter": "python",
   "pygments_lexer": "ipython2",
   "version": "2.7.12"
  }
 },
 "nbformat": 4,
 "nbformat_minor": 2
}
